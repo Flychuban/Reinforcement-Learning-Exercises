{
 "cells": [
  {
   "cell_type": "code",
   "execution_count": 3,
   "id": "3d0ca97d",
   "metadata": {},
   "outputs": [],
   "source": [
    "import gym\n",
    "from gym import Env\n",
    "from gym.spaces import Box, Discrete, Dict, Tuple, MultiBinary, MultiDiscrete\n",
    "\n",
    "from stable_baselines3 import PPO\n",
    "from stable_baselines3.common.vec_env import DummyVecEnv\n",
    "from stable_baselines3.common.evaluation import evaluate_policy\n",
    "\n",
    "import numpy as np\n",
    "import random\n",
    "import os"
   ]
  },
  {
   "cell_type": "code",
   "execution_count": 10,
   "id": "a5f6bcaa",
   "metadata": {},
   "outputs": [],
   "source": [
    "# Building an environment\n",
    "class ShowerEnv(Env):\n",
    "    def __init__(self):\n",
    "        self.action_space = Discrete(3)\n",
    "        self.observation_space = Box(low=0, high=100, shape=(1,))\n",
    "        self.state = 38 + random.randint(-3, 3)\n",
    "        self.shower_length = 60\n",
    "    def step(self, action):\n",
    "        self.state = action - 1\n",
    "        \n",
    "        self.shower_length = self.shower_length - 1\n",
    "        \n",
    "        # Calculate_reward\n",
    "        if self.state >=37 and self.state <=39:\n",
    "            reward=1\n",
    "        else:\n",
    "            reward=-1\n",
    "    \n",
    "        if shower_length <=0:\n",
    "            done=True\n",
    "        else:\n",
    "            done=False\n",
    "        \n",
    "        info={}\n",
    "        return self.state, reward, done, info\n",
    "    def reset(self):\n",
    "        #Implement vis\n",
    "        pass\n",
    "    def render(self):\n",
    "        self.state = np.array([38 + random.randint(-3, 3)]).astype(float)\n",
    "        self.shower_length = 60\n",
    "        pass"
   ]
  },
  {
   "cell_type": "code",
   "execution_count": null,
   "id": "9ab77798",
   "metadata": {},
   "outputs": [],
   "source": []
  }
 ],
 "metadata": {
  "kernelspec": {
   "display_name": "rl",
   "language": "python",
   "name": "rl"
  },
  "language_info": {
   "codemirror_mode": {
    "name": "ipython",
    "version": 3
   },
   "file_extension": ".py",
   "mimetype": "text/x-python",
   "name": "python",
   "nbconvert_exporter": "python",
   "pygments_lexer": "ipython3",
   "version": "3.10.2"
  }
 },
 "nbformat": 4,
 "nbformat_minor": 5
}
